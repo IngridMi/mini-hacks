{
 "cells": [
  {
   "cell_type": "code",
   "execution_count": 1,
   "metadata": {},
   "outputs": [],
   "source": [
    "import pandas as pd"
   ]
  },
  {
   "cell_type": "code",
   "execution_count": 2,
   "metadata": {},
   "outputs": [],
   "source": [
    "df = pd.read_json('votes.json')"
   ]
  },
  {
   "cell_type": "code",
   "execution_count": 3,
   "metadata": {},
   "outputs": [
    {
     "data": {
      "text/plain": [
       "Index(['closed', '_id', 'org', 'repo', 'number', 'amount', 'cost',\n",
       "       'tokenAddress', 'timestamp', 'address', 'signature', '__v'],\n",
       "      dtype='object')"
      ]
     },
     "execution_count": 3,
     "metadata": {},
     "output_type": "execute_result"
    }
   ],
   "source": [
    "df.columns"
   ]
  },
  {
   "cell_type": "code",
   "execution_count": null,
   "metadata": {},
   "outputs": [],
   "source": []
  },
  {
   "cell_type": "code",
   "execution_count": 4,
   "metadata": {},
   "outputs": [],
   "source": [
    "df_current = df[df['closed'] == False].copy()"
   ]
  },
  {
   "cell_type": "code",
   "execution_count": 5,
   "metadata": {},
   "outputs": [],
   "source": [
    "unique = df_current['address'].describe()['unique']"
   ]
  },
  {
   "cell_type": "code",
   "execution_count": 6,
   "metadata": {},
   "outputs": [],
   "source": [
    "votes = df_current['cost'].sum()\n"
   ]
  },
  {
   "cell_type": "code",
   "execution_count": 7,
   "metadata": {},
   "outputs": [
    {
     "name": "stdout",
     "output_type": "stream",
     "text": [
      "         amount\n",
      "number         \n",
      "11      1397.00\n",
      "13       192.00\n",
      "14       993.00\n",
      "17       994.73\n",
      "19      1299.00\n"
     ]
    },
    {
     "data": {
      "text/html": [
       "<div>\n",
       "<style scoped>\n",
       "    .dataframe tbody tr th:only-of-type {\n",
       "        vertical-align: middle;\n",
       "    }\n",
       "\n",
       "    .dataframe tbody tr th {\n",
       "        vertical-align: top;\n",
       "    }\n",
       "\n",
       "    .dataframe thead th {\n",
       "        text-align: right;\n",
       "    }\n",
       "</style>\n",
       "<table border=\"1\" class=\"dataframe\">\n",
       "  <thead>\n",
       "    <tr style=\"text-align: right;\">\n",
       "      <th></th>\n",
       "      <th>amount</th>\n",
       "    </tr>\n",
       "    <tr>\n",
       "      <th>number</th>\n",
       "      <th></th>\n",
       "    </tr>\n",
       "  </thead>\n",
       "  <tbody>\n",
       "    <tr>\n",
       "      <th>11</th>\n",
       "      <td>1397.00</td>\n",
       "    </tr>\n",
       "    <tr>\n",
       "      <th>13</th>\n",
       "      <td>192.00</td>\n",
       "    </tr>\n",
       "    <tr>\n",
       "      <th>14</th>\n",
       "      <td>993.00</td>\n",
       "    </tr>\n",
       "    <tr>\n",
       "      <th>17</th>\n",
       "      <td>994.73</td>\n",
       "    </tr>\n",
       "    <tr>\n",
       "      <th>19</th>\n",
       "      <td>1299.00</td>\n",
       "    </tr>\n",
       "  </tbody>\n",
       "</table>\n",
       "</div>"
      ],
      "text/plain": [
       "         amount\n",
       "number         \n",
       "11      1397.00\n",
       "13       192.00\n",
       "14       993.00\n",
       "17       994.73\n",
       "19      1299.00"
      ]
     },
     "execution_count": 7,
     "metadata": {},
     "output_type": "execute_result"
    }
   ],
   "source": [
    "results = df_current[['number','amount']].groupby('number').sum()\n",
    "print(results)\n",
    "results"
   ]
  },
  {
   "cell_type": "code",
   "execution_count": 8,
   "metadata": {
    "scrolled": true
   },
   "outputs": [
    {
     "name": "stdout",
     "output_type": "stream",
     "text": [
      "This round 9 unique addresses have participated 4875.73 WRAP have voted so far, which represents a  on this round's minihack.\n"
     ]
    }
   ],
   "source": [
    "print(f\"This round {unique} unique addresses have participated {votes} WRAP have voted so far, which represents a  on this round's minihack.\")\n",
    "\n"
   ]
  },
  {
   "cell_type": "code",
   "execution_count": 9,
   "metadata": {},
   "outputs": [
    {
     "name": "stdout",
     "output_type": "stream",
     "text": [
      "For this round, total participation so far has been ~40%\n"
     ]
    }
   ],
   "source": [
    "supply = 11945\n",
    "print(f\"For this round, total participation so far has been ~{int(votes / supply*100)}%\") "
   ]
  },
  {
   "cell_type": "code",
   "execution_count": 10,
   "metadata": {},
   "outputs": [
    {
     "data": {
      "text/plain": [
       "([<matplotlib.patches.Wedge at 0x7fad2cfe2ac0>,\n",
       "  <matplotlib.patches.Wedge at 0x7fad2cfe2fa0>,\n",
       "  <matplotlib.patches.Wedge at 0x7fad2cff6460>,\n",
       "  <matplotlib.patches.Wedge at 0x7fad2cff68e0>,\n",
       "  <matplotlib.patches.Wedge at 0x7fad2cff6d60>],\n",
       " [Text(0.6836564569085565, 0.8617504562965076, ''),\n",
       "  Text(-0.38047297825100684, 1.0321047974022837, ''),\n",
       "  Text(-0.9885311382951215, 0.48249993639476413, ''),\n",
       "  Text(-0.7450550152232529, -0.8092546102993042, ''),\n",
       "  Text(0.7366726926728021, -0.8168924922351799, '')])"
      ]
     },
     "execution_count": 10,
     "metadata": {},
     "output_type": "execute_result"
    },
    {
     "data": {
      "image/png": "[encoded data removed]",
      "text/plain": [
       "<Figure size 432x288 with 1 Axes>"
      ]
     },
     "metadata": {},
     "output_type": "display_data"
    }
   ],
   "source": [
    "import matplotlib.pyplot as plt \n",
    "\n",
    "plt.pie(results['amount'])"
   ]
  },
  {
   "cell_type": "code",
   "execution_count": 11,
   "metadata": {},
   "outputs": [
    {
     "data": {
      "text/plain": [
       "array(['0x00a2Ddfa736214563CEa9AEf5100f2e90c402918',\n",
       "       '0x37341cbb14c5F128A70B149726ad8B2CE6F4C793',\n",
       "       '0xB1B7586656116D546033e3bAFF69BFcD6592225E',\n",
       "       '0x5E642f8C81DE40E7e49b6a2B606dFB94A005bC44',\n",
       "       '0x76bc4C780Dd85558Bc4B24a4f262f4eB0bE78ca7',\n",
       "       '0x7C418D7083f6c22B3d600B8fe4F0cf93564098dD',\n",
       "       '0x3060fd5487a9f4184dA56bA6e09F4003c204660e',\n",
       "       '0x639749b7b08aEe65039c21d8a411103C6ceBEBF0',\n",
       "       '0x9A97Dbc9BAa91707B5bde45C810536C17b8cEB15'], dtype=object)"
      ]
     },
     "execution_count": 11,
     "metadata": {},
     "output_type": "execute_result"
    }
   ],
   "source": [
    "df_current['address'].unique()"
   ]
  }
 ],
 "metadata": {
  "kernelspec": {
   "display_name": "Python 3",
   "language": "python",
   "name": "python3"
  },
  "language_info": {
   "codemirror_mode": {
    "name": "ipython",
    "version": 3
   },
   "file_extension": ".py",
   "mimetype": "text/x-python",
   "name": "python",
   "nbconvert_exporter": "python",
   "pygments_lexer": "ipython3",
   "version": "3.8.6"
  }
 },
 "nbformat": 4,
 "nbformat_minor": 4
}
